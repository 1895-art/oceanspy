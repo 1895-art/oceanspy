{
 "cells": [
  {
   "cell_type": "markdown",
   "metadata": {},
   "source": [
    "# Tutorial\n",
    "OceanSpy builds on software packages developed by the Pangeo community, in particular [xarray](http://xarray.pydata.org/en/stable/), [dask](https://dask.org/), and [xgcm](https://xgcm.readthedocs.io/en/stable/). It is preferable to have some familiarity with these packages to get the most out of OceanSpy. \n",
    "\n",
    "This tutorial will take you through the main features of OceanSpy.\n",
    "\n",
    "If you are using SciServer, make sure that you are using the Oceanography kernel. The current kernel is displayed in the top-right corner of the notebook. You can change kernel by clicking on `Kernel`>>`Change Kernel`.\n",
    "\n",
    "To get started, import the oceanspy package:"
   ]
  },
  {
   "cell_type": "code",
   "execution_count": null,
   "metadata": {},
   "outputs": [],
   "source": [
    "import oceanspy as ospy"
   ]
  },
  {
   "cell_type": "markdown",
   "metadata": {},
   "source": [
    "If you get an error that says `No module named 'oceanspy'`, it means that you are not using the Oceanography kernel. Click on `Kernel`>>`Change Kernel`, then select `Oceanography`."
   ]
  },
  {
   "cell_type": "markdown",
   "metadata": {},
   "source": [
    "## Dask Client\n",
    "As explained [here](https://examples.dask.org/xarray.html#Start-Dask-Client-for-Dashboard), starting a dask client is optional, but useful for optimization purposes because it provides a [dashboard](http://distributed.dask.org/en/latest/web.html) to monitor the computation.  \n",
    "\n",
    "On your local computer, you can access the dask dashboard just by clicking on the link displayed by the client.\n",
    "The dashboard link is currently not enabled on SciServer. Follow these instructions to visualize the dashboard on SciServer:\n",
    "\n",
    "1. Switch to JupyterLab if you haven't done so yet (click on `Switch To JupyterLab`).\n",
    "2. Copy the link of the notebook and paste to a new tab, then substitute whatever is after the last slash with 'dask'.\n",
    "\n",
    "Here is an example:  \n",
    "\n",
    "* **Notebook**: `https://apps.sciserver.org/dockervm40/b029009b-6b4d-11e9-8a88-5254001d4703/lab?`\n",
    "* **Dashboard**: `https://apps.sciserver.org/dockervm40/b029009b-6b4d-11e9-8a88-5254001d4703/dask`\n",
    "\n",
    "The link to the dashboard will be created after you execute the code below."
   ]
  },
  {
   "cell_type": "code",
   "execution_count": null,
   "metadata": {},
   "outputs": [],
   "source": [
    "from dask.distributed import Client\n",
    "client = Client()\n",
    "client"
   ]
  },
  {
   "cell_type": "markdown",
   "metadata": {},
   "source": [
    "The client configuration can be changed and optimized for the computations needed. The main arguments to change to optimize performance are `n_workers`, `threads_per_worker`, and `memory_limit`."
   ]
  },
  {
   "cell_type": "markdown",
   "metadata": {},
   "source": [
    "## OceanDataset\n",
    "An `xarray.Dataset` (or `ds`) is the only object required to initialize an `oceanspy.OceanDataset` object (or `od`).\n",
    "An `od` is a collection of objects used by OceanSpy, and it can be initialized using the following command:\n",
    "```python\n",
    "od = ospy.OceanDataset(ds)\n",
    "```\n",
    "See [Import datasets](Tutorial.ipynb#Import-datasets) for step-by-step instructions on how to import your own dataset."
   ]
  },
  {
   "cell_type": "markdown",
   "metadata": {},
   "source": [
    "### Opening\n",
    "Several datasets are available on SciServer (see [SciServer access](sciserver.rst#sciserver-access)).\n",
    "Use `open_oceandataset.from_catalog()` to open one of these datasets (see [Dastasets](datasets.rst) for a list of available datasets).\n",
    "Otherwise, you can run this notebook on any computer by downloading the get_started data and using `open_oceandataset.from_zarr()`.\n",
    "\n",
    "Set `SciServer = True` to run this notebook on SciServer, otherwise set `SciServer = False`."
   ]
  },
  {
   "cell_type": "code",
   "execution_count": null,
   "metadata": {},
   "outputs": [],
   "source": [
    "SciServer = False # True: SciServer - False: any computer\n",
    "if SciServer:\n",
    "    od = ospy.open_oceandataset.from_catalog('get_started')\n",
    "else:\n",
    "    import os\n",
    "    if not os.path.isdir('oceanspy_get_started'):\n",
    "        # Download get_started\n",
    "        import subprocess\n",
    "        print(\"Downloading and uncompressing get_started data...\")\n",
    "        print(\"...it might take a couple of minutes.\")\n",
    "        commands = ['wget -v -O oceanspy_get_started.tar.gz -L '\n",
    "                    'https://jh.box.com/shared/static/'\n",
    "                    'pw83oja1gp6mbf8j34ff0qrxp08kf64q.gz',\n",
    "                    'tar xvzf oceanspy_get_started.tar.gz',\n",
    "                    'rm -f oceanspy_get_started.tar.gz']\n",
    "        subprocess.call('&&'.join(commands), shell=True)\n",
    "    od = ospy.open_oceandataset.from_zarr('oceanspy_get_started')\n",
    "    \n",
    "print()\n",
    "print(od)"
   ]
  },
  {
   "cell_type": "markdown",
   "metadata": {},
   "source": [
    "### Set functions\n",
    "All attributes are stored as global attributes (strings) in the `Dataset` object, and decoded by OceanSpy.\n",
    "Because of this, do not change attributes directly, but use OceanSpy's [Set methods](api.rst#set).\n",
    "For example:"
   ]
  },
  {
   "cell_type": "code",
   "execution_count": null,
   "metadata": {},
   "outputs": [],
   "source": [
    "od = od.set_name('oceandataset #1', overwrite=True)\n",
    "od = od.set_description('This is my first oceandataset', overwrite=True)\n",
    "print(od)"
   ]
  },
  {
   "cell_type": "markdown",
   "metadata": {},
   "source": [
    "The advantage of storing all the attributes in the ``Dataset`` object is that checkpoints can be created at any time (e.g., storing the Dataset in NetCDF format), and an ``OceanDataset`` object can be easily reconstructed on any computer. Thus, OceanSpy can be used at different stages of the post-processing."
   ]
  },
  {
   "cell_type": "markdown",
   "metadata": {},
   "source": [
    "### Modify Dataset objects\n",
    "Most OceanSpy functions modify or add variables to `od.dataset`.\n",
    "However, `od.dataset` is just a mirror object constructed from `od._ds`.\n",
    "If aliases have been set (this is necessary if your dataset uses variable names that differ from the OceanSpy reference names) `od._ds` and `od.dataset` differ from each other.  \n",
    "\n",
    "If you want to modify the ``Dataset`` object without using OceanSpy, you can easily extract it from `od` and change it using `xarray`. Then, you can re-initialize `od` if you want to use OceanSpy again.\n",
    "Here is an example:"
   ]
  },
  {
   "cell_type": "code",
   "execution_count": null,
   "metadata": {},
   "outputs": [],
   "source": [
    "# Extract ds\n",
    "ds = od.dataset\n",
    "\n",
    "# Compute mean temperature\n",
    "ds['meanTemp'] = ds['Temp'].mean('time')\n",
    "\n",
    "# Re-initialize the OceanDataset\n",
    "od = ospy.OceanDataset(ds)\n",
    "print(od, '\\n'*3, od.dataset['meanTemp'])"
   ]
  },
  {
   "cell_type": "markdown",
   "metadata": {},
   "source": [
    "Note: Make sure that the global attributes of the Dataset do not get lost, so you will not have to re-set the attributes of the ``OceanDataset``.\n",
    "Here is an example:"
   ]
  },
  {
   "cell_type": "code",
   "execution_count": null,
   "metadata": {},
   "outputs": [],
   "source": [
    "import xarray as xr\n",
    "\n",
    "# Extract ds\n",
    "ds = od.dataset\n",
    "\n",
    "# Compute mean salinity\n",
    "ds = xr.merge([ds, ds['S'].mean('time').rename('meanS')])\n",
    "\n",
    "# Global attributes have been dropped\n",
    "print('Global attributes:', ds.attrs, '\\n'*2)\n",
    "\n",
    "# Re-set global attributes\n",
    "ds.attrs = od.dataset.attrs\n",
    "\n",
    "# Re-initialize the OceanDataset\n",
    "od = ospy.OceanDataset(ds)\n",
    "print(od, '\\n'*3, od.dataset['meanS'])"
   ]
  },
  {
   "cell_type": "markdown",
   "metadata": {},
   "source": [
    "## Subsampling\n",
    "There are several functions that subsample the oceandataset in different ways. For example, it is possible to extract mooring sections, conduct ship surveys, or extract particle properties (see [Subsampling](api.rst#subsampling)).\n",
    "Most OceanSpy [Computing](api.rst#computing) functions make use of the [xgcm](https://xgcm.readthedocs.io/en/latest/grids.html#axes-and-positions) functionality to have multiple axes (e.g., `X` and `Xp1`) along a single physical dimension (e.g., longitude). Because we will still want to be able to perform calculations on the reduced data set, the default behavior in OceanSpy is to retain all axes. \n",
    "The following commands extract subsets of the data and show this behavior:"
   ]
  },
  {
   "cell_type": "code",
   "execution_count": null,
   "metadata": {},
   "outputs": [],
   "source": [
    "# Plot the original domain\n",
    "%matplotlib inline\n",
    "ax = od.plot.horizontal_section(varName='Depth')\n",
    "title = ax.set_title(od.name)"
   ]
  },
  {
   "cell_type": "markdown",
   "metadata": {},
   "source": [
    "The following commands cut out and plot a small region from the original `oceandataset`."
   ]
  },
  {
   "cell_type": "code",
   "execution_count": null,
   "metadata": {},
   "outputs": [],
   "source": [
    "od_cut = od.subsample.cutout(XRange=[-21, -13.5],\n",
    "                             YRange=[69.6, 71.4],\n",
    "                             ZRange=0,\n",
    "                             timeRange='2007-09-01')\n",
    "od_cut = od_cut.set_name('cutout', overwrite=False)\n",
    "# Alternatively, this syntax can be used:\n",
    "# od_cut = ospy.subsample.cutout(od, ...)\n",
    "\n",
    "# Plot the cutout domain\n",
    "ax = od_cut.plot.horizontal_section(varName='Depth')\n",
    "title = ax.set_title(od_cut.name)"
   ]
  },
  {
   "cell_type": "markdown",
   "metadata": {},
   "source": [
    "The size of the dataset has been reduced, but all axes in the horizontal (`X`, `Xp1`, `Y`, `Yp1`), vertical (`Z`, `Zp1`, `Zu`, `Zl`), and time dimensions (`time`, `time_midp`) have been retained, so that `od_cut` is still compatible with OceanSpy:"
   ]
  },
  {
   "cell_type": "code",
   "execution_count": null,
   "metadata": {},
   "outputs": [],
   "source": [
    "print('\\nOriginal: {} Gigabytes'.format(od.dataset.nbytes*1.E-9))\n",
    "print(dict(od.dataset.sizes))\n",
    "print('\\nCutout: {} Megabytes'.format(od_cut.dataset.nbytes*1.E-6))\n",
    "print(dict(od_cut.dataset.sizes))"
   ]
  },
  {
   "cell_type": "markdown",
   "metadata": {},
   "source": [
    "Sometimes it could be desirable to change this default behavior, and several additional arguments are available for this purpose (see [Subsampling](api.rst#subsampling)). For example, it is possible to reduce the vertical dimension to a single location:"
   ]
  },
  {
   "cell_type": "code",
   "execution_count": null,
   "metadata": {},
   "outputs": [],
   "source": [
    "# Extract sea surface, and drop Z-axis.\n",
    "od_drop = od.subsample.cutout(ZRange=0, dropAxes=True)\n",
    "\n",
    "print('\\nOriginal oceandataset:')\n",
    "print(dict(od.dataset.sizes))\n",
    "print(od.grid)\n",
    "print('\\nNew oceandataset:')\n",
    "print(dict(od_drop.dataset.sizes))\n",
    "print(od_drop.grid)"
   ]
  },
  {
   "cell_type": "markdown",
   "metadata": {},
   "source": [
    "Now, the vertical dimension is no longer part of the ``xgcm.Grid`` object, and all coordinates along the vertical dimensions have size 1."
   ]
  },
  {
   "cell_type": "markdown",
   "metadata": {},
   "source": [
    "## Computing\n",
    "The compute module contains functions that create new variables (see [Computing](api.rst#computing)). Most OceanSpy functions use lazy evaluation, which means that the actual computation is not done until values are needed (e.g., when plotting).\n",
    "There are two different types of compute functions:\n",
    "\n",
    "* Fixed-name: Functions that do not require an input. The name of new variables is fixed.\n",
    "* Smart-name: Functions that do require an input (e.g., vector calculus). The name of new variables is based on input names."
   ]
  },
  {
   "cell_type": "markdown",
   "metadata": {},
   "source": [
    "### Fixed-name\n",
    "We compute the kinetic energy as an example.\n",
    "This syntax returns a dataset containing the new variable:"
   ]
  },
  {
   "cell_type": "code",
   "execution_count": null,
   "metadata": {},
   "outputs": [],
   "source": [
    "ds_KE = ospy.compute.kinetic_energy(od_drop)\n",
    "print(ds_KE)"
   ]
  },
  {
   "cell_type": "markdown",
   "metadata": {},
   "source": [
    "while this syntax adds the new variable to `od_drop`:"
   ]
  },
  {
   "cell_type": "code",
   "execution_count": null,
   "metadata": {},
   "outputs": [],
   "source": [
    "od_KE = od_drop.compute.kinetic_energy()\n",
    "print(od_KE.dataset)"
   ]
  },
  {
   "cell_type": "markdown",
   "metadata": {},
   "source": [
    "Kinetic energy has been lazily evaluated so far.\n",
    "We can trigger the computation by plotting the mean kinetic energy."
   ]
  },
  {
   "cell_type": "code",
   "execution_count": null,
   "metadata": {},
   "outputs": [],
   "source": [
    "od_KE.plot.horizontal_section(varName='KE', meanAxes='time')"
   ]
  },
  {
   "cell_type": "markdown",
   "metadata": {},
   "source": [
    "Note that OceanSpy always computes weighted means rather than regular averages!"
   ]
  },
  {
   "cell_type": "markdown",
   "metadata": {},
   "source": [
    "### Smart-name\n",
    "We now compute gradients as an example.\n",
    "As seen above, `od.compute.gradient(...)` returns a dataset, while `od = ospy.compute.gradient(od, ...)` adds new variables to the oceandataset.\n",
    "The following cell computes temperature gradients along all dimensions:"
   ]
  },
  {
   "cell_type": "code",
   "execution_count": null,
   "metadata": {
    "scrolled": true
   },
   "outputs": [],
   "source": [
    "ds = ospy.compute.gradient(od, varNameList='Temp')\n",
    "print(ds.data_vars)"
   ]
  },
  {
   "cell_type": "markdown",
   "metadata": {},
   "source": [
    "while the following code computes the temperature, salinity, and density gradients along the time dimension only. \n",
    "Note that `Sigma0` needs to be computed."
   ]
  },
  {
   "cell_type": "code",
   "execution_count": null,
   "metadata": {},
   "outputs": [],
   "source": [
    "ds = ospy.compute.gradient(od, varNameList=['Temp', 'S', 'Sigma0'],\n",
    "                           axesList=['time'])\n",
    "print(ds.data_vars)"
   ]
  },
  {
   "cell_type": "markdown",
   "metadata": {},
   "source": [
    "Here is an overview of the smart-name functions:"
   ]
  },
  {
   "cell_type": "code",
   "execution_count": null,
   "metadata": {},
   "outputs": [],
   "source": [
    "print('\\nGRADIENT')\n",
    "print(ospy.compute.gradient(od, 'Temp').data_vars)\n",
    "\n",
    "print('\\nDIVERGENCE')\n",
    "print(ospy.compute.divergence(od, iName='U', jName='V', kName='W').data_vars)\n",
    "\n",
    "print('\\nCURL')\n",
    "print(ospy.compute.curl(od, iName='U', jName='V', kName='W').data_vars)\n",
    "\n",
    "print('\\nLAPLACIAN')\n",
    "print(ospy.compute.laplacian(od, varNameList='Temp').data_vars)\n",
    "\n",
    "print('\\nWEIGHTED MEAN')\n",
    "print(ospy.compute.weighted_mean(od, varNameList='Temp').data_vars)\n",
    "\n",
    "print('\\nINTEGRAL')\n",
    "print(ospy.compute.integral(od, varNameList='Temp').data_vars)\n"
   ]
  },
  {
   "cell_type": "markdown",
   "metadata": {},
   "source": [
    "All new variables have been lazily evaluated so far. The following cell triggers the evaluation of the weighted mean temperature and salinity along all dimensions: "
   ]
  },
  {
   "cell_type": "code",
   "execution_count": null,
   "metadata": {},
   "outputs": [],
   "source": [
    "ds = ospy.compute.weighted_mean(od, varNameList=['Temp', 'S'], storeWeights=False)\n",
    "for var in ds.data_vars:\n",
    "    print('{} = {} {}'.format(var, ds[var].values, ds[var].attrs.pop('units', '')))"
   ]
  },
  {
   "cell_type": "markdown",
   "metadata": {},
   "source": [
    "## Plotting\n",
    "Some of the plot functions have been used above. See [Plotting](api.rst#plotting) for a list of available functions.  \n",
    "For example, horizontal sections are projected using the attribute `projection` of `od`.\n",
    "Here we plot the mean sea surface temperature and the isobaths using different projections:"
   ]
  },
  {
   "cell_type": "code",
   "execution_count": null,
   "metadata": {},
   "outputs": [],
   "source": [
    "ax = od.plot.horizontal_section(varName='Temp',\n",
    "                                contourName='Depth',\n",
    "                                meanAxes='time',\n",
    "                                center=False,\n",
    "                                cmap='Spectral_r',\n",
    "                                robust=True,\n",
    "                                cutout_kwargs={'ZRange': 0,\n",
    "                                               'dropAxes': True})"
   ]
  },
  {
   "cell_type": "markdown",
   "metadata": {},
   "source": [
    "We can change the projection by using one the set functions of the [Set methods](api.rst#set) of the `oceandataset`."
   ]
  },
  {
   "cell_type": "code",
   "execution_count": null,
   "metadata": {},
   "outputs": [],
   "source": [
    "# Change projection\n",
    "od_NPS = od.set_projection('NorthPolarStereo')\n",
    "ax = od_NPS.plot.horizontal_section(varName='Temp',\n",
    "                                    contourName='Depth',\n",
    "                                    meanAxes=True,\n",
    "                                    center=False,\n",
    "                                    cmap='Spectral_r',\n",
    "                                    robust=True,\n",
    "                                    cutout_kwargs={'ZRange': 0,\n",
    "                                                   'dropAxes': True})"
   ]
  },
  {
   "cell_type": "markdown",
   "metadata": {},
   "source": [
    "## Animating\n",
    "See [Animating](api.rst#animating) for a list of available functions. Plotting and animating functions have identical syntax. For example, just replace `od.plot.horizontal_section` with `od.aimate.horizontal_section` to create an animation of Sea Surface Temperature:"
   ]
  },
  {
   "cell_type": "code",
   "execution_count": null,
   "metadata": {},
   "outputs": [],
   "source": [
    "anim = od.animate.horizontal_section(varName='Temp',\n",
    "                                     contourName='Depth',\n",
    "                                     center=False,\n",
    "                                     cmap='Spectral_r',\n",
    "                                     robust=True,\n",
    "                                     cutout_kwargs={'ZRange': 0,\n",
    "                                                    'dropAxes': True},\n",
    "                                     display=True)"
   ]
  },
  {
   "cell_type": "markdown",
   "metadata": {},
   "source": [
    "## SciServer workflow\n",
    "The SciServer Interactive mode runs on a Virtual Machine with 16 cores shared between multiple users.\n",
    "Use it for notebooks that don't require heavy computations, or to test and design your notebooks.\n",
    "Use the SciServer Jobs mode instead to fully exploit the computational power of SciServer.\n",
    "For larger jobs, you have exclusive access to 32 logical CPU cores and 240GiB of memory. See [SciServer access](sciserver.rst#sciserver-access) for more details."
   ]
  },
  {
   "cell_type": "markdown",
   "metadata": {},
   "source": [
    "## Import datasets\n",
    "The following step-by-step instructions show how to import any Ocean General Circulation Model data set:\n",
    "\n",
    "1. Open the dataset using `xarray`. For example,\n",
    "\n",
    "```python\n",
    "import xarray as xr\n",
    "ds = open_mfdataset(paths)\n",
    "```\n",
    "\n",
    "2. Create an ``OceanDataset``.\n",
    "\n",
    "```python\n",
    "import oceanspy as ospy\n",
    "od = ospy.OceanDataset(ds)\n",
    "```\n",
    "\n",
    "3. Use [Set methods](api.rst#set) to connect the dataset with a `xgcm.Grid`, create aliases, set parameters, ...  \n",
    "   For example, setting aliases is necessary if your dataset uses variable names that differ from the OceanSpy reference names.\n",
    "   See below for a list of OceanSpy reference names and parameters. In addition, any variable computed by OceanSpy (e.g., `Sigma0`) can be aliased.\n",
    "   \n",
    "4. Use [Import methods](api.rst#import) if your dataset is not compatible with OceanSpy (e.g., remove NaNs from coordinate variables):\n",
    "\n",
    "All commands above can be triggered using `ospy.open_dataset.from_catalog` and a configuration file (e.g., see [SciServer catalogs](https://github.com/malmans2/oceanspy/tree/master/sciserver_catalogs))."
   ]
  },
  {
   "cell_type": "markdown",
   "metadata": {},
   "source": [
    "Here we print the OceanSpy parameters that can be set."
   ]
  },
  {
   "cell_type": "code",
   "execution_count": null,
   "metadata": {},
   "outputs": [],
   "source": [
    "# Print parameters\n",
    "print(\"\\n{:>15}: {}\\n\".format('PARAMETER NAME', 'DESCRIPTION'))\n",
    "for par, desc in sorted(ospy.PARAMETERS_DESCRIPTION.items()):\n",
    "    print(\"{:>15}: {}\".format(par, desc))"
   ]
  },
  {
   "cell_type": "markdown",
   "metadata": {},
   "source": [
    "While here we print the reference names of the variables used by OceanSpy."
   ]
  },
  {
   "cell_type": "code",
   "execution_count": null,
   "metadata": {},
   "outputs": [],
   "source": [
    "# Print reference names\n",
    "if SciServer:\n",
    "    od = ospy.open_oceandataset.from_catalog('get_started')\n",
    "else:\n",
    "    import os\n",
    "    if not os.path.isdir('oceanspy_get_started'):\n",
    "        # Download get_started\n",
    "        import subprocess\n",
    "        print(\"Downloading and uncompressing get_started data...\")\n",
    "        print(\"...it might take a couple of minutes.\")\n",
    "        commands = ['wget -v -O oceanspy_get_started.tar.gz -L '\n",
    "                    'https://jh.box.com/shared/static/'\n",
    "                    'pw83oja1gp6mbf8j34ff0qrxp08kf64q.gz',\n",
    "                    'tar xvzf oceanspy_get_started.tar.gz',\n",
    "                    'rm -f oceanspy_get_started.tar.gz']\n",
    "        subprocess.call('&&'.join(commands), shell=True)\n",
    "    od = ospy.open_oceandataset.from_zarr('oceanspy_get_started')\n",
    "\n",
    "table = {var: od.dataset[var].attrs.pop('description',\n",
    "                                        od.dataset[var].attrs.pop('long_name', None))\n",
    "         for var in od.dataset.variables}\n",
    "print(\"\\n{:>15}: {}\\n\".format('REFERENCE NAME', 'DESCRIPTION'))\n",
    "for name, desc in sorted(table.items()):\n",
    "    print(\"{:>15}: {}\".format(name, desc))"
   ]
  }
 ],
 "metadata": {
  "kernelspec": {
   "display_name": "Python 3",
   "language": "python",
   "name": "python3"
  },
  "language_info": {
   "codemirror_mode": {
    "name": "ipython",
    "version": 3
   },
   "file_extension": ".py",
   "mimetype": "text/x-python",
   "name": "python",
   "nbconvert_exporter": "python",
   "pygments_lexer": "ipython3",
   "version": "3.7.3"
  }
 },
 "nbformat": 4,
 "nbformat_minor": 2
}
